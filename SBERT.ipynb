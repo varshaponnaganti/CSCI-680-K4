{
 "cells": [
  {
   "cell_type": "code",
   "execution_count": 1,
   "metadata": {},
   "outputs": [],
   "source": [
    "from sklearn.model_selection import train_test_split\n",
    "from sklearn.metrics import classification_report, accuracy_score,confusion_matrix, recall_score, auc, precision_score, roc_auc_score, f1_score, roc_curve\n",
    "from sklearn.naive_bayes import GaussianNB\n",
    "from sklearn.ensemble import RandomForestClassifier\n",
    "from sklearn.tree import DecisionTreeClassifier\n",
    "from sklearn.neighbors import KNeighborsClassifier\n",
    "\n",
    "# import torch\n",
    "import pandas as pd\n",
    "import numpy as np\n",
    "import matplotlib.pyplot as plt\n",
    "import seaborn as sns"
   ]
  },
  {
   "cell_type": "code",
   "execution_count": 2,
   "metadata": {},
   "outputs": [],
   "source": [
    "from sentence_transformers import SentenceTransformer"
   ]
  },
  {
   "cell_type": "code",
   "execution_count": 3,
   "metadata": {},
   "outputs": [],
   "source": [
    "final = pd.read_excel('bert_dataset.xlsx')"
   ]
  },
  {
   "cell_type": "code",
   "execution_count": 4,
   "metadata": {},
   "outputs": [],
   "source": [
    "final.drop(columns = ['Unnamed: 0', 'embeddings', 'code_tokens',\"tokens_ids\" ], inplace=True)"
   ]
  },
  {
   "cell_type": "code",
   "execution_count": 11,
   "metadata": {},
   "outputs": [
    {
     "data": {
      "text/html": [
       "<div>\n",
       "<style scoped>\n",
       "    .dataframe tbody tr th:only-of-type {\n",
       "        vertical-align: middle;\n",
       "    }\n",
       "\n",
       "    .dataframe tbody tr th {\n",
       "        vertical-align: top;\n",
       "    }\n",
       "\n",
       "    .dataframe thead th {\n",
       "        text-align: right;\n",
       "    }\n",
       "</style>\n",
       "<table border=\"1\" class=\"dataframe\">\n",
       "  <thead>\n",
       "    <tr style=\"text-align: right;\">\n",
       "      <th></th>\n",
       "      <th>CWE-ID</th>\n",
       "      <th>code</th>\n",
       "      <th>label</th>\n",
       "      <th>CWE_Numerical</th>\n",
       "    </tr>\n",
       "  </thead>\n",
       "  <tbody>\n",
       "    <tr>\n",
       "      <td>0</td>\n",
       "      <td>CWE-129</td>\n",
       "      <td>public void goodG2BSink(LinkedList&lt;Integer&gt; da...</td>\n",
       "      <td>1</td>\n",
       "      <td>0</td>\n",
       "    </tr>\n",
       "    <tr>\n",
       "      <td>1</td>\n",
       "      <td>CWE-113</td>\n",
       "      <td>public void bad(HttpServletRequest request, Ht...</td>\n",
       "      <td>0</td>\n",
       "      <td>1</td>\n",
       "    </tr>\n",
       "    <tr>\n",
       "      <td>2</td>\n",
       "      <td>CWE-369</td>\n",
       "      <td>private void badSink(float data ) throws Throw...</td>\n",
       "      <td>0</td>\n",
       "      <td>2</td>\n",
       "    </tr>\n",
       "    <tr>\n",
       "      <td>3</td>\n",
       "      <td>CWE-190</td>\n",
       "      <td>public void goodB2GSink(long data ) throws Thr...</td>\n",
       "      <td>1</td>\n",
       "      <td>3</td>\n",
       "    </tr>\n",
       "    <tr>\n",
       "      <td>4</td>\n",
       "      <td>CWE-129</td>\n",
       "      <td>public void goodB2GSink(CWE129_Improper_Valida...</td>\n",
       "      <td>1</td>\n",
       "      <td>0</td>\n",
       "    </tr>\n",
       "  </tbody>\n",
       "</table>\n",
       "</div>"
      ],
      "text/plain": [
       "    CWE-ID                                               code  label  \\\n",
       "0  CWE-129  public void goodG2BSink(LinkedList<Integer> da...      1   \n",
       "1  CWE-113  public void bad(HttpServletRequest request, Ht...      0   \n",
       "2  CWE-369  private void badSink(float data ) throws Throw...      0   \n",
       "3  CWE-190  public void goodB2GSink(long data ) throws Thr...      1   \n",
       "4  CWE-129  public void goodB2GSink(CWE129_Improper_Valida...      1   \n",
       "\n",
       "   CWE_Numerical  \n",
       "0              0  \n",
       "1              1  \n",
       "2              2  \n",
       "3              3  \n",
       "4              0  "
      ]
     },
     "execution_count": 11,
     "metadata": {},
     "output_type": "execute_result"
    }
   ],
   "source": [
    "final.head()"
   ]
  },
  {
   "cell_type": "code",
   "execution_count": 6,
   "metadata": {},
   "outputs": [],
   "source": [
    "final['label'] = final['label'].map({'good': 1, 'bad': 0}).astype(int)"
   ]
  },
  {
   "cell_type": "code",
   "execution_count": 7,
   "metadata": {},
   "outputs": [],
   "source": [
    "final_cwe = final.copy(deep=True)"
   ]
  },
  {
   "cell_type": "code",
   "execution_count": 8,
   "metadata": {},
   "outputs": [],
   "source": [
    "final_cwe['CWE-ID'] = pd.factorize(final_cwe['CWE-ID'])[0]\n",
    "final_cwe = final_cwe.rename(columns={'CWE-ID': 'CWE_Numerical'})"
   ]
  },
  {
   "cell_type": "code",
   "execution_count": 9,
   "metadata": {},
   "outputs": [],
   "source": [
    "extracted_col = final_cwe[\"CWE_Numerical\"]\n",
    "final = final.join(extracted_col)"
   ]
  },
  {
   "cell_type": "code",
   "execution_count": 12,
   "metadata": {},
   "outputs": [
    {
     "data": {
      "text/html": [
       "<div>\n",
       "<style scoped>\n",
       "    .dataframe tbody tr th:only-of-type {\n",
       "        vertical-align: middle;\n",
       "    }\n",
       "\n",
       "    .dataframe tbody tr th {\n",
       "        vertical-align: top;\n",
       "    }\n",
       "\n",
       "    .dataframe thead th {\n",
       "        text-align: right;\n",
       "    }\n",
       "</style>\n",
       "<table border=\"1\" class=\"dataframe\">\n",
       "  <thead>\n",
       "    <tr style=\"text-align: right;\">\n",
       "      <th></th>\n",
       "      <th>CWE-ID</th>\n",
       "      <th>code</th>\n",
       "      <th>label</th>\n",
       "      <th>CWE_Numerical</th>\n",
       "    </tr>\n",
       "  </thead>\n",
       "  <tbody>\n",
       "    <tr>\n",
       "      <td>0</td>\n",
       "      <td>CWE-129</td>\n",
       "      <td>public void goodG2BSink(LinkedList&lt;Integer&gt; da...</td>\n",
       "      <td>1</td>\n",
       "      <td>0</td>\n",
       "    </tr>\n",
       "    <tr>\n",
       "      <td>1</td>\n",
       "      <td>CWE-113</td>\n",
       "      <td>public void bad(HttpServletRequest request, Ht...</td>\n",
       "      <td>0</td>\n",
       "      <td>1</td>\n",
       "    </tr>\n",
       "    <tr>\n",
       "      <td>2</td>\n",
       "      <td>CWE-369</td>\n",
       "      <td>private void badSink(float data ) throws Throw...</td>\n",
       "      <td>0</td>\n",
       "      <td>2</td>\n",
       "    </tr>\n",
       "    <tr>\n",
       "      <td>3</td>\n",
       "      <td>CWE-190</td>\n",
       "      <td>public void goodB2GSink(long data ) throws Thr...</td>\n",
       "      <td>1</td>\n",
       "      <td>3</td>\n",
       "    </tr>\n",
       "    <tr>\n",
       "      <td>4</td>\n",
       "      <td>CWE-129</td>\n",
       "      <td>public void goodB2GSink(CWE129_Improper_Valida...</td>\n",
       "      <td>1</td>\n",
       "      <td>0</td>\n",
       "    </tr>\n",
       "  </tbody>\n",
       "</table>\n",
       "</div>"
      ],
      "text/plain": [
       "    CWE-ID                                               code  label  \\\n",
       "0  CWE-129  public void goodG2BSink(LinkedList<Integer> da...      1   \n",
       "1  CWE-113  public void bad(HttpServletRequest request, Ht...      0   \n",
       "2  CWE-369  private void badSink(float data ) throws Throw...      0   \n",
       "3  CWE-190  public void goodB2GSink(long data ) throws Thr...      1   \n",
       "4  CWE-129  public void goodB2GSink(CWE129_Improper_Valida...      1   \n",
       "\n",
       "   CWE_Numerical  \n",
       "0              0  \n",
       "1              1  \n",
       "2              2  \n",
       "3              3  \n",
       "4              0  "
      ]
     },
     "execution_count": 12,
     "metadata": {},
     "output_type": "execute_result"
    }
   ],
   "source": [
    "final.head()"
   ]
  },
  {
   "cell_type": "code",
   "execution_count": 13,
   "metadata": {},
   "outputs": [],
   "source": [
    "embedder = SentenceTransformer('all-MiniLM-L6-v2')"
   ]
  },
  {
   "cell_type": "code",
   "execution_count": 14,
   "metadata": {},
   "outputs": [],
   "source": [
    "code_list = final[\"code\"].values.tolist()"
   ]
  },
  {
   "cell_type": "code",
   "execution_count": 15,
   "metadata": {},
   "outputs": [],
   "source": [
    "embeddings = embedder.encode(code_list)"
   ]
  },
  {
   "cell_type": "code",
   "execution_count": 16,
   "metadata": {},
   "outputs": [],
   "source": [
    "embeddings_list = embeddings.tolist()"
   ]
  },
  {
   "cell_type": "code",
   "execution_count": 17,
   "metadata": {},
   "outputs": [],
   "source": [
    "final['Embeddings'] = embeddings_list"
   ]
  },
  {
   "cell_type": "code",
   "execution_count": 173,
   "metadata": {},
   "outputs": [
    {
     "data": {
      "text/plain": [
       "1    10154\n",
       "0     4769\n",
       "Name: label, dtype: int64"
      ]
     },
     "execution_count": 173,
     "metadata": {},
     "output_type": "execute_result"
    }
   ],
   "source": [
    "final['label'].value_counts()"
   ]
  },
  {
   "cell_type": "code",
   "execution_count": 176,
   "metadata": {},
   "outputs": [
    {
     "data": {
      "text/plain": [
       "52"
      ]
     },
     "execution_count": 176,
     "metadata": {},
     "output_type": "execute_result"
    }
   ],
   "source": [
    "len(final['CWE-ID'].value_counts())"
   ]
  },
  {
   "cell_type": "code",
   "execution_count": 178,
   "metadata": {},
   "outputs": [
    {
     "data": {
      "text/plain": [
       "CWE-190    2889\n",
       "CWE-191    2325\n",
       "CWE-129    1679\n",
       "CWE-369    1124\n",
       "CWE-113     839\n",
       "CWE-789     767\n",
       "CWE-400     727\n",
       "CWE-197     598\n",
       "CWE-89      460\n",
       "CWE-134     425\n",
       "CWE-80      310\n",
       "CWE-606     277\n",
       "CWE-78      230\n",
       "CWE-690     226\n",
       "CWE-470     205\n",
       "CWE-83      175\n",
       "CWE-476     158\n",
       "CWE-319     150\n",
       "CWE-81      150\n",
       "CWE-15      146\n",
       "CWE-601     135\n",
       "CWE-563     109\n",
       "CWE-643      86\n",
       "CWE-36       85\n",
       "CWE-23       77\n",
       "CWE-90       65\n",
       "CWE-259      50\n",
       "CWE-398      48\n",
       "CWE-546      39\n",
       "CWE-315      31\n",
       "CWE-477      30\n",
       "CWE-511      25\n",
       "CWE-328      24\n",
       "CWE-321      21\n",
       "CWE-193      19\n",
       "CWE-338      19\n",
       "CWE-526      18\n",
       "CWE-506      17\n",
       "CWE-325      16\n",
       "CWE-396      16\n",
       "CWE-327      13\n",
       "CWE-382      13\n",
       "CWE-256      12\n",
       "CWE-209      12\n",
       "CWE-760      11\n",
       "CWE-483      11\n",
       "CWE-482      11\n",
       "CWE-395      10\n",
       "CWE-614      10\n",
       "CWE-114      10\n",
       "CWE-539      10\n",
       "CWE-329      10\n",
       "Name: CWE-ID, dtype: int64"
      ]
     },
     "execution_count": 178,
     "metadata": {},
     "output_type": "execute_result"
    }
   ],
   "source": [
    "final['CWE-ID'].value_counts()"
   ]
  },
  {
   "cell_type": "code",
   "execution_count": 19,
   "metadata": {},
   "outputs": [],
   "source": [
    "final.to_excel(\"embeddings_SBERT.xlsx\")"
   ]
  },
  {
   "cell_type": "code",
   "execution_count": 20,
   "metadata": {},
   "outputs": [],
   "source": [
    "final_df = pd.read_excel(\"embeddings_SBERT.xlsx\")"
   ]
  },
  {
   "cell_type": "markdown",
   "metadata": {},
   "source": [
    "# Predicting CWE Categories"
   ]
  },
  {
   "cell_type": "code",
   "execution_count": 44,
   "metadata": {},
   "outputs": [],
   "source": [
    "X_train, X_test, y_train, y_test = train_test_split(final.Embeddings.tolist(),final.CWE_Numerical, test_size=0.2, random_state=42)"
   ]
  },
  {
   "cell_type": "code",
   "execution_count": 142,
   "metadata": {},
   "outputs": [],
   "source": [
    "def check_performance(classifier, X_train, y_train, X_test, results, idx):\n",
    "    classifier.fit(X_train, y_train)\n",
    "    y_pred = classifier.predict(X_test)\n",
    "    y_prob = classifier.predict_proba(X_test)[:,1]\n",
    "    # Metrics\n",
    "    results.iloc[0, idx] = accuracy_score(y_test, y_pred)\n",
    "    results.iloc[1, idx] = precision_score(y_test, y_pred,average='macro')\n",
    "    results.iloc[2, idx] = recall_score(y_test, y_pred,average='macro')\n",
    "    \n",
    "    print(\"Accuracy: \", accuracy_score(y_test, y_pred))\n",
    "    print(\"Precision Score: \",precision_score(y_test, y_pred,average='macro'))\n",
    "    print(\"Recall Score: \",recall_score(y_test, y_pred,average='macro'))"
   ]
  },
  {
   "cell_type": "code",
   "execution_count": 143,
   "metadata": {},
   "outputs": [],
   "source": [
    "results = pd.DataFrame(columns = ['DT','RF','NB', 'KNN'], index = range(3))\n",
    "# DT --> Decision Tree\n",
    "# RF --> Random Forest\n",
    "# NB --> Naive Bayes \n",
    "# KNN --> K Nearest Neighbors"
   ]
  },
  {
   "cell_type": "code",
   "execution_count": 144,
   "metadata": {},
   "outputs": [
    {
     "name": "stdout",
     "output_type": "stream",
     "text": [
      "Accuracy:  0.7778894472361809\n",
      "Precision Score:  0.6788156312411338\n",
      "Recall Score:  0.5977226525699141\n"
     ]
    },
    {
     "name": "stderr",
     "output_type": "stream",
     "text": [
      "/home/varshaponnaganti/.conda/envs/cyber/lib/python3.6/site-packages/sklearn/metrics/_classification.py:1248: UndefinedMetricWarning: Precision is ill-defined and being set to 0.0 in labels with no predicted samples. Use `zero_division` parameter to control this behavior.\n",
      "  _warn_prf(average, modifier, msg_start, len(result))\n",
      "/home/varshaponnaganti/.conda/envs/cyber/lib/python3.6/site-packages/sklearn/metrics/_classification.py:1248: UndefinedMetricWarning: Precision is ill-defined and being set to 0.0 in labels with no predicted samples. Use `zero_division` parameter to control this behavior.\n",
      "  _warn_prf(average, modifier, msg_start, len(result))\n"
     ]
    }
   ],
   "source": [
    "check_performance(DecisionTreeClassifier(), X_train, y_train, X_test, results, 0)"
   ]
  },
  {
   "cell_type": "code",
   "execution_count": 145,
   "metadata": {},
   "outputs": [
    {
     "name": "stdout",
     "output_type": "stream",
     "text": [
      "Accuracy:  0.911892797319933\n",
      "Precision Score:  0.9301242557333789\n",
      "Recall Score:  0.907480544145312\n"
     ]
    }
   ],
   "source": [
    "check_performance(RandomForestClassifier(), X_train, y_train, X_test, results, 1)"
   ]
  },
  {
   "cell_type": "code",
   "execution_count": 146,
   "metadata": {},
   "outputs": [
    {
     "name": "stdout",
     "output_type": "stream",
     "text": [
      "Accuracy:  0.7715242881072026\n",
      "Precision Score:  0.8591184013792074\n",
      "Recall Score:  0.863226859353272\n"
     ]
    }
   ],
   "source": [
    "check_performance(GaussianNB(), X_train, y_train, X_test, results, 2)"
   ]
  },
  {
   "cell_type": "code",
   "execution_count": 147,
   "metadata": {},
   "outputs": [
    {
     "name": "stdout",
     "output_type": "stream",
     "text": [
      "Accuracy:  0.8445561139028476\n",
      "Precision Score:  0.9065075881689599\n",
      "Recall Score:  0.8877474053191884\n"
     ]
    }
   ],
   "source": [
    "check_performance(KNeighborsClassifier(), X_train, y_train, X_test, results, 3)"
   ]
  },
  {
   "cell_type": "code",
   "execution_count": 148,
   "metadata": {},
   "outputs": [
    {
     "data": {
      "text/html": [
       "<div>\n",
       "<style scoped>\n",
       "    .dataframe tbody tr th:only-of-type {\n",
       "        vertical-align: middle;\n",
       "    }\n",
       "\n",
       "    .dataframe tbody tr th {\n",
       "        vertical-align: top;\n",
       "    }\n",
       "\n",
       "    .dataframe thead th {\n",
       "        text-align: right;\n",
       "    }\n",
       "</style>\n",
       "<table border=\"1\" class=\"dataframe\">\n",
       "  <thead>\n",
       "    <tr style=\"text-align: right;\">\n",
       "      <th></th>\n",
       "      <th>DT</th>\n",
       "      <th>RF</th>\n",
       "      <th>NB</th>\n",
       "      <th>KNN</th>\n",
       "    </tr>\n",
       "  </thead>\n",
       "  <tbody>\n",
       "    <tr>\n",
       "      <td>0</td>\n",
       "      <td>0.777889</td>\n",
       "      <td>0.911893</td>\n",
       "      <td>0.771524</td>\n",
       "      <td>0.844556</td>\n",
       "    </tr>\n",
       "    <tr>\n",
       "      <td>1</td>\n",
       "      <td>0.678816</td>\n",
       "      <td>0.930124</td>\n",
       "      <td>0.859118</td>\n",
       "      <td>0.906508</td>\n",
       "    </tr>\n",
       "    <tr>\n",
       "      <td>2</td>\n",
       "      <td>0.597723</td>\n",
       "      <td>0.907481</td>\n",
       "      <td>0.863227</td>\n",
       "      <td>0.887747</td>\n",
       "    </tr>\n",
       "  </tbody>\n",
       "</table>\n",
       "</div>"
      ],
      "text/plain": [
       "         DT        RF        NB       KNN\n",
       "0  0.777889  0.911893  0.771524  0.844556\n",
       "1  0.678816  0.930124  0.859118  0.906508\n",
       "2  0.597723  0.907481  0.863227  0.887747"
      ]
     },
     "execution_count": 148,
     "metadata": {},
     "output_type": "execute_result"
    }
   ],
   "source": [
    "results"
   ]
  },
  {
   "cell_type": "code",
   "execution_count": 169,
   "metadata": {},
   "outputs": [],
   "source": [
    "results.to_excel('sbert_cwe_outputs.xlsx')"
   ]
  },
  {
   "cell_type": "code",
   "execution_count": 149,
   "metadata": {},
   "outputs": [
    {
     "data": {
      "image/png": "[encoded data removed]",
      "text/plain": [
       "<Figure size 720x504 with 1 Axes>"
      ]
     },
     "metadata": {},
     "output_type": "display_data"
    }
   ],
   "source": [
    "plt.figure(figsize = (10, 7))\n",
    "sns.heatmap(results[results.columns.to_list()].astype(float), cmap = 'Blues', annot = True, linewidths = 1, cbar = False, annot_kws = {'fontsize': 12},\n",
    "           yticklabels = ['Accuracy', 'Precision', 'Recall'])\n",
    "sns.set(font_scale = 1.5)\n",
    "plt.yticks(rotation = 0)\n",
    "plt.show()"
   ]
  },
  {
   "cell_type": "markdown",
   "metadata": {},
   "source": [
    "# Predicting Good and Bad Code"
   ]
  },
  {
   "cell_type": "code",
   "execution_count": 156,
   "metadata": {},
   "outputs": [],
   "source": [
    "def check_performance_l(classifier_l, X_train_l, y_train_l, X_test_l, results_badGood, idx_l):\n",
    "    classifier_l.fit(X_train_l, y_train_l)\n",
    "    y_pred_l = classifier_l.predict(X_test_l)\n",
    "    y_prob_l = classifier_l.predict_proba(X_test_l)[:,1]\n",
    "    # Metrics\n",
    "    results_badGood.iloc[0, idx_l] = accuracy_score(y_test_l, y_pred_l)\n",
    "    results_badGood.iloc[1, idx_l] = round(precision_score(y_test_l, y_pred_l), 2)\n",
    "    results_badGood.iloc[2, idx_l] = round(recall_score(y_test_l, y_pred_l), 2)\n",
    "    results_badGood.iloc[3, idx_l] = round(roc_auc_score(y_test_l, y_prob_l), 3)\n",
    "\n",
    "    print(classification_report(y_test_l, y_pred_l))\n",
    "    print(\"Accuracy: \", accuracy_score(y_test_l, y_pred_l))\n",
    "    print(\"Precision Score: \",precision_score(y_test_l, y_pred_l, 2))\n",
    "    print(\"Recall Score: \",recall_score(y_test_l, y_pred_l, 2))\n",
    "    print(f'ROC AUC score: {round(roc_auc_score(y_test_l, y_prob_l), 3)}')\n",
    "    print('')\n",
    "    print('-----------------------------------------------------')\n",
    "\n",
    "    # Roc curve\n",
    "    false_positive_rate, true_positive_rate, thresholds = roc_curve(y_test_l, y_prob_l)\n",
    "    roc_auc = auc(false_positive_rate, true_positive_rate)\n",
    "\n",
    "    sns.set(style = 'white')\n",
    "    plt.figure(figsize = (8, 8))\n",
    "    plt.plot(false_positive_rate,true_positive_rate, color = '#b01717', label = 'AUC = %0.3f' % roc_auc)\n",
    "    plt.legend(loc = 'lower right')\n",
    "    plt.plot([0, 1], [0, 1], linestyle = '--', color = '#174ab0')\n",
    "    plt.axis('tight')\n",
    "    plt.ylabel('True Positive Rate')\n",
    "    plt.xlabel('False Positive Rate')\n",
    "    plt.show()\n"
   ]
  },
  {
   "cell_type": "code",
   "execution_count": 151,
   "metadata": {},
   "outputs": [],
   "source": [
    "X_train_l, X_test_l, y_train_l, y_test_l = train_test_split(final.Embeddings.tolist(),final.label, test_size=0.2, random_state=42)"
   ]
  },
  {
   "cell_type": "code",
   "execution_count": 161,
   "metadata": {},
   "outputs": [],
   "source": [
    "results_badGood = pd.DataFrame(columns = ['NV','DT','KNN'], index = range(4))\n",
    "# DT --> Decision Tree\n",
    "# RF --> Random Forest\n",
    "# NB --> Naive Bayes \n",
    "# KNN --> K Nearest Neighbors"
   ]
  },
  {
   "cell_type": "code",
   "execution_count": 162,
   "metadata": {},
   "outputs": [
    {
     "name": "stdout",
     "output_type": "stream",
     "text": [
      "              precision    recall  f1-score   support\n",
      "\n",
      "           0       0.93      1.00      0.96       923\n",
      "           1       1.00      0.97      0.98      2062\n",
      "\n",
      "    accuracy                           0.98      2985\n",
      "   macro avg       0.96      0.98      0.97      2985\n",
      "weighted avg       0.98      0.98      0.98      2985\n",
      "\n",
      "Accuracy:  0.976214405360134\n",
      "Precision Score:  1.0\n",
      "Recall Score:  0.9655674102812803\n",
      "ROC AUC score: 0.999\n",
      "\n",
      "-----------------------------------------------------\n"
     ]
    },
    {
     "name": "stderr",
     "output_type": "stream",
     "text": [
      "/home/varshaponnaganti/.conda/envs/cyber/lib/python3.6/site-packages/sklearn/utils/validation.py:72: FutureWarning: Pass labels=2 as keyword args. From version 1.0 (renaming of 0.25) passing these as positional arguments will result in an error\n",
      "  \"will result in an error\", FutureWarning)\n",
      "/home/varshaponnaganti/.conda/envs/cyber/lib/python3.6/site-packages/sklearn/utils/validation.py:72: FutureWarning: Pass labels=2 as keyword args. From version 1.0 (renaming of 0.25) passing these as positional arguments will result in an error\n",
      "  \"will result in an error\", FutureWarning)\n"
     ]
    },
    {
     "data": {
      "image/png": "[encoded data removed]",
      "text/plain": [
       "<Figure size 576x576 with 1 Axes>"
      ]
     },
     "metadata": {},
     "output_type": "display_data"
    }
   ],
   "source": [
    "check_performance_l(GaussianNB(), X_train_l, y_train_l, X_test_l, results_badGood, 0)"
   ]
  },
  {
   "cell_type": "code",
   "execution_count": 163,
   "metadata": {},
   "outputs": [
    {
     "name": "stdout",
     "output_type": "stream",
     "text": [
      "              precision    recall  f1-score   support\n",
      "\n",
      "           0       0.98      0.98      0.98       923\n",
      "           1       0.99      0.99      0.99      2062\n",
      "\n",
      "    accuracy                           0.99      2985\n",
      "   macro avg       0.98      0.98      0.98      2985\n",
      "weighted avg       0.99      0.99      0.99      2985\n",
      "\n",
      "Accuracy:  0.9862646566164154\n",
      "Precision Score:  0.9912493923189111\n",
      "Recall Score:  0.9888457807953444\n",
      "ROC AUC score: 0.985\n",
      "\n",
      "-----------------------------------------------------\n"
     ]
    },
    {
     "name": "stderr",
     "output_type": "stream",
     "text": [
      "/home/varshaponnaganti/.conda/envs/cyber/lib/python3.6/site-packages/sklearn/utils/validation.py:72: FutureWarning: Pass labels=2 as keyword args. From version 1.0 (renaming of 0.25) passing these as positional arguments will result in an error\n",
      "  \"will result in an error\", FutureWarning)\n",
      "/home/varshaponnaganti/.conda/envs/cyber/lib/python3.6/site-packages/sklearn/utils/validation.py:72: FutureWarning: Pass labels=2 as keyword args. From version 1.0 (renaming of 0.25) passing these as positional arguments will result in an error\n",
      "  \"will result in an error\", FutureWarning)\n"
     ]
    },
    {
     "data": {
      "image/png": "[encoded data removed]",
      "text/plain": [
       "<Figure size 576x576 with 1 Axes>"
      ]
     },
     "metadata": {},
     "output_type": "display_data"
    }
   ],
   "source": [
    "check_performance_l(DecisionTreeClassifier(), X_train_l, y_train_l, X_test_l, results_badGood, 1)"
   ]
  },
  {
   "cell_type": "code",
   "execution_count": 164,
   "metadata": {},
   "outputs": [
    {
     "name": "stdout",
     "output_type": "stream",
     "text": [
      "              precision    recall  f1-score   support\n",
      "\n",
      "           0       0.99      0.98      0.98       923\n",
      "           1       0.99      0.99      0.99      2062\n",
      "\n",
      "    accuracy                           0.99      2985\n",
      "   macro avg       0.99      0.99      0.99      2985\n",
      "weighted avg       0.99      0.99      0.99      2985\n",
      "\n",
      "Accuracy:  0.9902847571189279\n",
      "Precision Score:  0.9917755200774069\n",
      "Recall Score:  0.9941804073714839\n",
      "ROC AUC score: 1.0\n",
      "\n",
      "-----------------------------------------------------\n"
     ]
    },
    {
     "name": "stderr",
     "output_type": "stream",
     "text": [
      "/home/varshaponnaganti/.conda/envs/cyber/lib/python3.6/site-packages/sklearn/utils/validation.py:72: FutureWarning: Pass labels=2 as keyword args. From version 1.0 (renaming of 0.25) passing these as positional arguments will result in an error\n",
      "  \"will result in an error\", FutureWarning)\n",
      "/home/varshaponnaganti/.conda/envs/cyber/lib/python3.6/site-packages/sklearn/utils/validation.py:72: FutureWarning: Pass labels=2 as keyword args. From version 1.0 (renaming of 0.25) passing these as positional arguments will result in an error\n",
      "  \"will result in an error\", FutureWarning)\n"
     ]
    },
    {
     "data": {
      "image/png": "[encoded data removed]",
      "text/plain": [
       "<Figure size 576x576 with 1 Axes>"
      ]
     },
     "metadata": {},
     "output_type": "display_data"
    }
   ],
   "source": [
    "check_performance_l(KNeighborsClassifier(), X_train_l, y_train_l, X_test_l, results_badGood, 2)"
   ]
  },
  {
   "cell_type": "code",
   "execution_count": 168,
   "metadata": {},
   "outputs": [],
   "source": [
    "results_badGood.to_excel('sbert_badgood_outputs.xlsx')"
   ]
  },
  {
   "cell_type": "code",
   "execution_count": 167,
   "metadata": {},
   "outputs": [
    {
     "data": {
      "image/png": "[encoded data removed]",
      "text/plain": [
       "<Figure size 720x504 with 1 Axes>"
      ]
     },
     "metadata": {},
     "output_type": "display_data"
    }
   ],
   "source": [
    "plt.figure(figsize = (10, 7))\n",
    "sns.heatmap(results_badGood[results_badGood.columns.to_list()].astype(float), cmap = 'Blues', annot = True, linewidths = 1, cbar = False, annot_kws = {'fontsize': 12},\n",
    "           yticklabels = ['Accuracy', 'Precision', 'Recall','ROC AUC'])\n",
    "sns.set(font_scale = 1.5)\n",
    "plt.yticks(rotation = 0)\n",
    "plt.show()"
   ]
  },
  {
   "cell_type": "code",
   "execution_count": null,
   "metadata": {},
   "outputs": [],
   "source": []
  }
 ],
 "metadata": {
  "kernelspec": {
   "display_name": "Python 3 (ipykernel)",
   "language": "python",
   "name": "python3"
  },
  "language_info": {
   "codemirror_mode": {
    "name": "ipython",
    "version": 3
   },
   "file_extension": ".py",
   "mimetype": "text/x-python",
   "name": "python",
   "nbconvert_exporter": "python",
   "pygments_lexer": "ipython3",
   "version": "3.9.12"
  }
 },
 "nbformat": 4,
 "nbformat_minor": 2
}
