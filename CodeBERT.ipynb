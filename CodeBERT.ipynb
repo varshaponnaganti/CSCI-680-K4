{
 "cells": [
  {
   "cell_type": "code",
   "execution_count": 1,
   "metadata": {},
   "outputs": [],
   "source": [
    "from sklearn.model_selection import train_test_split\n",
    "from sklearn.metrics import classification_report, accuracy_score,confusion_matrix, recall_score, auc, precision_score, roc_auc_score, f1_score, roc_curve\n",
    "from sklearn.naive_bayes import GaussianNB\n",
    "from sklearn.ensemble import RandomForestClassifier\n",
    "from sklearn.tree import DecisionTreeClassifier\n",
    "from sklearn.neighbors import KNeighborsClassifier\n",
    "\n",
    "import pandas as pd\n",
    "import numpy as np\n",
    "import matplotlib.pyplot as plt\n",
    "import seaborn as sns"
   ]
  },
  {
   "cell_type": "code",
   "execution_count": 2,
   "metadata": {},
   "outputs": [],
   "source": [
    "from transformers import  RobertaTokenizer, RobertaConfig, RobertaModel, AutoTokenizer, AutoModel"
   ]
  },
  {
   "cell_type": "code",
   "execution_count": 3,
   "metadata": {},
   "outputs": [],
   "source": [
    "import torch"
   ]
  },
  {
   "cell_type": "code",
   "execution_count": 4,
   "metadata": {},
   "outputs": [
    {
     "data": {
      "text/plain": [
       "RobertaModel(\n",
       "  (embeddings): RobertaEmbeddings(\n",
       "    (word_embeddings): Embedding(50265, 768, padding_idx=1)\n",
       "    (position_embeddings): Embedding(514, 768, padding_idx=1)\n",
       "    (token_type_embeddings): Embedding(1, 768)\n",
       "    (LayerNorm): LayerNorm((768,), eps=1e-05, elementwise_affine=True)\n",
       "    (dropout): Dropout(p=0.1, inplace=False)\n",
       "  )\n",
       "  (encoder): RobertaEncoder(\n",
       "    (layer): ModuleList(\n",
       "      (0): RobertaLayer(\n",
       "        (attention): RobertaAttention(\n",
       "          (self): RobertaSelfAttention(\n",
       "            (query): Linear(in_features=768, out_features=768, bias=True)\n",
       "            (key): Linear(in_features=768, out_features=768, bias=True)\n",
       "            (value): Linear(in_features=768, out_features=768, bias=True)\n",
       "            (dropout): Dropout(p=0.1, inplace=False)\n",
       "          )\n",
       "          (output): RobertaSelfOutput(\n",
       "            (dense): Linear(in_features=768, out_features=768, bias=True)\n",
       "            (LayerNorm): LayerNorm((768,), eps=1e-05, elementwise_affine=True)\n",
       "            (dropout): Dropout(p=0.1, inplace=False)\n",
       "          )\n",
       "        )\n",
       "        (intermediate): RobertaIntermediate(\n",
       "          (dense): Linear(in_features=768, out_features=3072, bias=True)\n",
       "          (intermediate_act_fn): GELUActivation()\n",
       "        )\n",
       "        (output): RobertaOutput(\n",
       "          (dense): Linear(in_features=3072, out_features=768, bias=True)\n",
       "          (LayerNorm): LayerNorm((768,), eps=1e-05, elementwise_affine=True)\n",
       "          (dropout): Dropout(p=0.1, inplace=False)\n",
       "        )\n",
       "      )\n",
       "      (1): RobertaLayer(\n",
       "        (attention): RobertaAttention(\n",
       "          (self): RobertaSelfAttention(\n",
       "            (query): Linear(in_features=768, out_features=768, bias=True)\n",
       "            (key): Linear(in_features=768, out_features=768, bias=True)\n",
       "            (value): Linear(in_features=768, out_features=768, bias=True)\n",
       "            (dropout): Dropout(p=0.1, inplace=False)\n",
       "          )\n",
       "          (output): RobertaSelfOutput(\n",
       "            (dense): Linear(in_features=768, out_features=768, bias=True)\n",
       "            (LayerNorm): LayerNorm((768,), eps=1e-05, elementwise_affine=True)\n",
       "            (dropout): Dropout(p=0.1, inplace=False)\n",
       "          )\n",
       "        )\n",
       "        (intermediate): RobertaIntermediate(\n",
       "          (dense): Linear(in_features=768, out_features=3072, bias=True)\n",
       "          (intermediate_act_fn): GELUActivation()\n",
       "        )\n",
       "        (output): RobertaOutput(\n",
       "          (dense): Linear(in_features=3072, out_features=768, bias=True)\n",
       "          (LayerNorm): LayerNorm((768,), eps=1e-05, elementwise_affine=True)\n",
       "          (dropout): Dropout(p=0.1, inplace=False)\n",
       "        )\n",
       "      )\n",
       "      (2): RobertaLayer(\n",
       "        (attention): RobertaAttention(\n",
       "          (self): RobertaSelfAttention(\n",
       "            (query): Linear(in_features=768, out_features=768, bias=True)\n",
       "            (key): Linear(in_features=768, out_features=768, bias=True)\n",
       "            (value): Linear(in_features=768, out_features=768, bias=True)\n",
       "            (dropout): Dropout(p=0.1, inplace=False)\n",
       "          )\n",
       "          (output): RobertaSelfOutput(\n",
       "            (dense): Linear(in_features=768, out_features=768, bias=True)\n",
       "            (LayerNorm): LayerNorm((768,), eps=1e-05, elementwise_affine=True)\n",
       "            (dropout): Dropout(p=0.1, inplace=False)\n",
       "          )\n",
       "        )\n",
       "        (intermediate): RobertaIntermediate(\n",
       "          (dense): Linear(in_features=768, out_features=3072, bias=True)\n",
       "          (intermediate_act_fn): GELUActivation()\n",
       "        )\n",
       "        (output): RobertaOutput(\n",
       "          (dense): Linear(in_features=3072, out_features=768, bias=True)\n",
       "          (LayerNorm): LayerNorm((768,), eps=1e-05, elementwise_affine=True)\n",
       "          (dropout): Dropout(p=0.1, inplace=False)\n",
       "        )\n",
       "      )\n",
       "      (3): RobertaLayer(\n",
       "        (attention): RobertaAttention(\n",
       "          (self): RobertaSelfAttention(\n",
       "            (query): Linear(in_features=768, out_features=768, bias=True)\n",
       "            (key): Linear(in_features=768, out_features=768, bias=True)\n",
       "            (value): Linear(in_features=768, out_features=768, bias=True)\n",
       "            (dropout): Dropout(p=0.1, inplace=False)\n",
       "          )\n",
       "          (output): RobertaSelfOutput(\n",
       "            (dense): Linear(in_features=768, out_features=768, bias=True)\n",
       "            (LayerNorm): LayerNorm((768,), eps=1e-05, elementwise_affine=True)\n",
       "            (dropout): Dropout(p=0.1, inplace=False)\n",
       "          )\n",
       "        )\n",
       "        (intermediate): RobertaIntermediate(\n",
       "          (dense): Linear(in_features=768, out_features=3072, bias=True)\n",
       "          (intermediate_act_fn): GELUActivation()\n",
       "        )\n",
       "        (output): RobertaOutput(\n",
       "          (dense): Linear(in_features=3072, out_features=768, bias=True)\n",
       "          (LayerNorm): LayerNorm((768,), eps=1e-05, elementwise_affine=True)\n",
       "          (dropout): Dropout(p=0.1, inplace=False)\n",
       "        )\n",
       "      )\n",
       "      (4): RobertaLayer(\n",
       "        (attention): RobertaAttention(\n",
       "          (self): RobertaSelfAttention(\n",
       "            (query): Linear(in_features=768, out_features=768, bias=True)\n",
       "            (key): Linear(in_features=768, out_features=768, bias=True)\n",
       "            (value): Linear(in_features=768, out_features=768, bias=True)\n",
       "            (dropout): Dropout(p=0.1, inplace=False)\n",
       "          )\n",
       "          (output): RobertaSelfOutput(\n",
       "            (dense): Linear(in_features=768, out_features=768, bias=True)\n",
       "            (LayerNorm): LayerNorm((768,), eps=1e-05, elementwise_affine=True)\n",
       "            (dropout): Dropout(p=0.1, inplace=False)\n",
       "          )\n",
       "        )\n",
       "        (intermediate): RobertaIntermediate(\n",
       "          (dense): Linear(in_features=768, out_features=3072, bias=True)\n",
       "          (intermediate_act_fn): GELUActivation()\n",
       "        )\n",
       "        (output): RobertaOutput(\n",
       "          (dense): Linear(in_features=3072, out_features=768, bias=True)\n",
       "          (LayerNorm): LayerNorm((768,), eps=1e-05, elementwise_affine=True)\n",
       "          (dropout): Dropout(p=0.1, inplace=False)\n",
       "        )\n",
       "      )\n",
       "      (5): RobertaLayer(\n",
       "        (attention): RobertaAttention(\n",
       "          (self): RobertaSelfAttention(\n",
       "            (query): Linear(in_features=768, out_features=768, bias=True)\n",
       "            (key): Linear(in_features=768, out_features=768, bias=True)\n",
       "            (value): Linear(in_features=768, out_features=768, bias=True)\n",
       "            (dropout): Dropout(p=0.1, inplace=False)\n",
       "          )\n",
       "          (output): RobertaSelfOutput(\n",
       "            (dense): Linear(in_features=768, out_features=768, bias=True)\n",
       "            (LayerNorm): LayerNorm((768,), eps=1e-05, elementwise_affine=True)\n",
       "            (dropout): Dropout(p=0.1, inplace=False)\n",
       "          )\n",
       "        )\n",
       "        (intermediate): RobertaIntermediate(\n",
       "          (dense): Linear(in_features=768, out_features=3072, bias=True)\n",
       "          (intermediate_act_fn): GELUActivation()\n",
       "        )\n",
       "        (output): RobertaOutput(\n",
       "          (dense): Linear(in_features=3072, out_features=768, bias=True)\n",
       "          (LayerNorm): LayerNorm((768,), eps=1e-05, elementwise_affine=True)\n",
       "          (dropout): Dropout(p=0.1, inplace=False)\n",
       "        )\n",
       "      )\n",
       "      (6): RobertaLayer(\n",
       "        (attention): RobertaAttention(\n",
       "          (self): RobertaSelfAttention(\n",
       "            (query): Linear(in_features=768, out_features=768, bias=True)\n",
       "            (key): Linear(in_features=768, out_features=768, bias=True)\n",
       "            (value): Linear(in_features=768, out_features=768, bias=True)\n",
       "            (dropout): Dropout(p=0.1, inplace=False)\n",
       "          )\n",
       "          (output): RobertaSelfOutput(\n",
       "            (dense): Linear(in_features=768, out_features=768, bias=True)\n",
       "            (LayerNorm): LayerNorm((768,), eps=1e-05, elementwise_affine=True)\n",
       "            (dropout): Dropout(p=0.1, inplace=False)\n",
       "          )\n",
       "        )\n",
       "        (intermediate): RobertaIntermediate(\n",
       "          (dense): Linear(in_features=768, out_features=3072, bias=True)\n",
       "          (intermediate_act_fn): GELUActivation()\n",
       "        )\n",
       "        (output): RobertaOutput(\n",
       "          (dense): Linear(in_features=3072, out_features=768, bias=True)\n",
       "          (LayerNorm): LayerNorm((768,), eps=1e-05, elementwise_affine=True)\n",
       "          (dropout): Dropout(p=0.1, inplace=False)\n",
       "        )\n",
       "      )\n",
       "      (7): RobertaLayer(\n",
       "        (attention): RobertaAttention(\n",
       "          (self): RobertaSelfAttention(\n",
       "            (query): Linear(in_features=768, out_features=768, bias=True)\n",
       "            (key): Linear(in_features=768, out_features=768, bias=True)\n",
       "            (value): Linear(in_features=768, out_features=768, bias=True)\n",
       "            (dropout): Dropout(p=0.1, inplace=False)\n",
       "          )\n",
       "          (output): RobertaSelfOutput(\n",
       "            (dense): Linear(in_features=768, out_features=768, bias=True)\n",
       "            (LayerNorm): LayerNorm((768,), eps=1e-05, elementwise_affine=True)\n",
       "            (dropout): Dropout(p=0.1, inplace=False)\n",
       "          )\n",
       "        )\n",
       "        (intermediate): RobertaIntermediate(\n",
       "          (dense): Linear(in_features=768, out_features=3072, bias=True)\n",
       "          (intermediate_act_fn): GELUActivation()\n",
       "        )\n",
       "        (output): RobertaOutput(\n",
       "          (dense): Linear(in_features=3072, out_features=768, bias=True)\n",
       "          (LayerNorm): LayerNorm((768,), eps=1e-05, elementwise_affine=True)\n",
       "          (dropout): Dropout(p=0.1, inplace=False)\n",
       "        )\n",
       "      )\n",
       "      (8): RobertaLayer(\n",
       "        (attention): RobertaAttention(\n",
       "          (self): RobertaSelfAttention(\n",
       "            (query): Linear(in_features=768, out_features=768, bias=True)\n",
       "            (key): Linear(in_features=768, out_features=768, bias=True)\n",
       "            (value): Linear(in_features=768, out_features=768, bias=True)\n",
       "            (dropout): Dropout(p=0.1, inplace=False)\n",
       "          )\n",
       "          (output): RobertaSelfOutput(\n",
       "            (dense): Linear(in_features=768, out_features=768, bias=True)\n",
       "            (LayerNorm): LayerNorm((768,), eps=1e-05, elementwise_affine=True)\n",
       "            (dropout): Dropout(p=0.1, inplace=False)\n",
       "          )\n",
       "        )\n",
       "        (intermediate): RobertaIntermediate(\n",
       "          (dense): Linear(in_features=768, out_features=3072, bias=True)\n",
       "          (intermediate_act_fn): GELUActivation()\n",
       "        )\n",
       "        (output): RobertaOutput(\n",
       "          (dense): Linear(in_features=3072, out_features=768, bias=True)\n",
       "          (LayerNorm): LayerNorm((768,), eps=1e-05, elementwise_affine=True)\n",
       "          (dropout): Dropout(p=0.1, inplace=False)\n",
       "        )\n",
       "      )\n",
       "      (9): RobertaLayer(\n",
       "        (attention): RobertaAttention(\n",
       "          (self): RobertaSelfAttention(\n",
       "            (query): Linear(in_features=768, out_features=768, bias=True)\n",
       "            (key): Linear(in_features=768, out_features=768, bias=True)\n",
       "            (value): Linear(in_features=768, out_features=768, bias=True)\n",
       "            (dropout): Dropout(p=0.1, inplace=False)\n",
       "          )\n",
       "          (output): RobertaSelfOutput(\n",
       "            (dense): Linear(in_features=768, out_features=768, bias=True)\n",
       "            (LayerNorm): LayerNorm((768,), eps=1e-05, elementwise_affine=True)\n",
       "            (dropout): Dropout(p=0.1, inplace=False)\n",
       "          )\n",
       "        )\n",
       "        (intermediate): RobertaIntermediate(\n",
       "          (dense): Linear(in_features=768, out_features=3072, bias=True)\n",
       "          (intermediate_act_fn): GELUActivation()\n",
       "        )\n",
       "        (output): RobertaOutput(\n",
       "          (dense): Linear(in_features=3072, out_features=768, bias=True)\n",
       "          (LayerNorm): LayerNorm((768,), eps=1e-05, elementwise_affine=True)\n",
       "          (dropout): Dropout(p=0.1, inplace=False)\n",
       "        )\n",
       "      )\n",
       "      (10): RobertaLayer(\n",
       "        (attention): RobertaAttention(\n",
       "          (self): RobertaSelfAttention(\n",
       "            (query): Linear(in_features=768, out_features=768, bias=True)\n",
       "            (key): Linear(in_features=768, out_features=768, bias=True)\n",
       "            (value): Linear(in_features=768, out_features=768, bias=True)\n",
       "            (dropout): Dropout(p=0.1, inplace=False)\n",
       "          )\n",
       "          (output): RobertaSelfOutput(\n",
       "            (dense): Linear(in_features=768, out_features=768, bias=True)\n",
       "            (LayerNorm): LayerNorm((768,), eps=1e-05, elementwise_affine=True)\n",
       "            (dropout): Dropout(p=0.1, inplace=False)\n",
       "          )\n",
       "        )\n",
       "        (intermediate): RobertaIntermediate(\n",
       "          (dense): Linear(in_features=768, out_features=3072, bias=True)\n",
       "          (intermediate_act_fn): GELUActivation()\n",
       "        )\n",
       "        (output): RobertaOutput(\n",
       "          (dense): Linear(in_features=3072, out_features=768, bias=True)\n",
       "          (LayerNorm): LayerNorm((768,), eps=1e-05, elementwise_affine=True)\n",
       "          (dropout): Dropout(p=0.1, inplace=False)\n",
       "        )\n",
       "      )\n",
       "      (11): RobertaLayer(\n",
       "        (attention): RobertaAttention(\n",
       "          (self): RobertaSelfAttention(\n",
       "            (query): Linear(in_features=768, out_features=768, bias=True)\n",
       "            (key): Linear(in_features=768, out_features=768, bias=True)\n",
       "            (value): Linear(in_features=768, out_features=768, bias=True)\n",
       "            (dropout): Dropout(p=0.1, inplace=False)\n",
       "          )\n",
       "          (output): RobertaSelfOutput(\n",
       "            (dense): Linear(in_features=768, out_features=768, bias=True)\n",
       "            (LayerNorm): LayerNorm((768,), eps=1e-05, elementwise_affine=True)\n",
       "            (dropout): Dropout(p=0.1, inplace=False)\n",
       "          )\n",
       "        )\n",
       "        (intermediate): RobertaIntermediate(\n",
       "          (dense): Linear(in_features=768, out_features=3072, bias=True)\n",
       "          (intermediate_act_fn): GELUActivation()\n",
       "        )\n",
       "        (output): RobertaOutput(\n",
       "          (dense): Linear(in_features=3072, out_features=768, bias=True)\n",
       "          (LayerNorm): LayerNorm((768,), eps=1e-05, elementwise_affine=True)\n",
       "          (dropout): Dropout(p=0.1, inplace=False)\n",
       "        )\n",
       "      )\n",
       "    )\n",
       "  )\n",
       "  (pooler): RobertaPooler(\n",
       "    (dense): Linear(in_features=768, out_features=768, bias=True)\n",
       "    (activation): Tanh()\n",
       "  )\n",
       ")"
      ]
     },
     "execution_count": 4,
     "metadata": {},
     "output_type": "execute_result"
    }
   ],
   "source": [
    "device = torch.device(\"cuda\" if torch.cuda.is_available() else \"cpu\")\n",
    "tokenizer = RobertaTokenizer.from_pretrained(\"microsoft/codebert-base\")\n",
    "model = RobertaModel.from_pretrained(\"microsoft/codebert-base\")\n",
    "model.to(device)"
   ]
  },
  {
   "cell_type": "code",
   "execution_count": 5,
   "metadata": {},
   "outputs": [],
   "source": [
    "df = pd.read_excel('projectASE_dataset.xlsx')"
   ]
  },
  {
   "cell_type": "code",
   "execution_count": 7,
   "metadata": {},
   "outputs": [],
   "source": [
    "df.drop(columns = ['Unnamed: 0'], inplace=True)"
   ]
  },
  {
   "cell_type": "code",
   "execution_count": 8,
   "metadata": {},
   "outputs": [
    {
     "data": {
      "text/html": [
       "<div>\n",
       "<style scoped>\n",
       "    .dataframe tbody tr th:only-of-type {\n",
       "        vertical-align: middle;\n",
       "    }\n",
       "\n",
       "    .dataframe tbody tr th {\n",
       "        vertical-align: top;\n",
       "    }\n",
       "\n",
       "    .dataframe thead th {\n",
       "        text-align: right;\n",
       "    }\n",
       "</style>\n",
       "<table border=\"1\" class=\"dataframe\">\n",
       "  <thead>\n",
       "    <tr style=\"text-align: right;\">\n",
       "      <th></th>\n",
       "      <th>CWE-ID</th>\n",
       "      <th>code</th>\n",
       "      <th>label</th>\n",
       "    </tr>\n",
       "  </thead>\n",
       "  <tbody>\n",
       "    <tr>\n",
       "      <th>0</th>\n",
       "      <td>CWE-129</td>\n",
       "      <td>public void goodG2BSink(LinkedList&lt;Integer&gt; da...</td>\n",
       "      <td>good</td>\n",
       "    </tr>\n",
       "    <tr>\n",
       "      <th>1</th>\n",
       "      <td>CWE-113</td>\n",
       "      <td>public void bad(HttpServletRequest request, Ht...</td>\n",
       "      <td>bad</td>\n",
       "    </tr>\n",
       "    <tr>\n",
       "      <th>2</th>\n",
       "      <td>CWE-369</td>\n",
       "      <td>private void badSink(float data ) throws Throw...</td>\n",
       "      <td>bad</td>\n",
       "    </tr>\n",
       "    <tr>\n",
       "      <th>3</th>\n",
       "      <td>CWE-190</td>\n",
       "      <td>public void goodB2GSink(long data ) throws Thr...</td>\n",
       "      <td>good</td>\n",
       "    </tr>\n",
       "    <tr>\n",
       "      <th>4</th>\n",
       "      <td>CWE-129</td>\n",
       "      <td>public void goodB2GSink(CWE129_Improper_Valida...</td>\n",
       "      <td>good</td>\n",
       "    </tr>\n",
       "  </tbody>\n",
       "</table>\n",
       "</div>"
      ],
      "text/plain": [
       "    CWE-ID                                               code label\n",
       "0  CWE-129  public void goodG2BSink(LinkedList<Integer> da...  good\n",
       "1  CWE-113  public void bad(HttpServletRequest request, Ht...   bad\n",
       "2  CWE-369  private void badSink(float data ) throws Throw...   bad\n",
       "3  CWE-190  public void goodB2GSink(long data ) throws Thr...  good\n",
       "4  CWE-129  public void goodB2GSink(CWE129_Improper_Valida...  good"
      ]
     },
     "execution_count": 8,
     "metadata": {},
     "output_type": "execute_result"
    }
   ],
   "source": [
    "df.head()"
   ]
  },
  {
   "cell_type": "code",
   "execution_count": 9,
   "metadata": {},
   "outputs": [],
   "source": [
    "df['code_tokens'] = df.apply(lambda row: tokenizer.tokenize(row['code']), axis=1)"
   ]
  },
  {
   "cell_type": "code",
   "execution_count": 10,
   "metadata": {},
   "outputs": [],
   "source": [
    "df['tokens_ids'] = df.apply(lambda row: tokenizer.convert_tokens_to_ids(row[\"code_tokens\"]), axis=1)"
   ]
  },
  {
   "cell_type": "code",
   "execution_count": 13,
   "metadata": {},
   "outputs": [
    {
     "data": {
      "text/plain": [
       "14923"
      ]
     },
     "execution_count": 13,
     "metadata": {},
     "output_type": "execute_result"
    }
   ],
   "source": [
    "len(df)"
   ]
  },
  {
   "cell_type": "code",
   "execution_count": 12,
   "metadata": {},
   "outputs": [],
   "source": [
    "embeddings_list1 = []"
   ]
  },
  {
   "cell_type": "code",
   "execution_count": 33,
   "metadata": {},
   "outputs": [],
   "source": [
    "# i = 13500\n",
    "# while i < 14924:\n",
    "#     embeddings_list1.append(model(torch.tensor(df.loc[i,\"tokens_ids\"])[None,:])[1].tolist())\n",
    "#     i += 1"
   ]
  },
  {
   "cell_type": "code",
   "execution_count": 25,
   "metadata": {},
   "outputs": [
    {
     "data": {
      "text/plain": [
       "14923"
      ]
     },
     "execution_count": 25,
     "metadata": {},
     "output_type": "execute_result"
    }
   ],
   "source": [
    "len(embeddings_list1)"
   ]
  },
  {
   "cell_type": "code",
   "execution_count": 28,
   "metadata": {},
   "outputs": [
    {
     "data": {
      "text/html": [
       "<div>\n",
       "<style scoped>\n",
       "    .dataframe tbody tr th:only-of-type {\n",
       "        vertical-align: middle;\n",
       "    }\n",
       "\n",
       "    .dataframe tbody tr th {\n",
       "        vertical-align: top;\n",
       "    }\n",
       "\n",
       "    .dataframe thead th {\n",
       "        text-align: right;\n",
       "    }\n",
       "</style>\n",
       "<table border=\"1\" class=\"dataframe\">\n",
       "  <thead>\n",
       "    <tr style=\"text-align: right;\">\n",
       "      <th></th>\n",
       "      <th>CWE-ID</th>\n",
       "      <th>code</th>\n",
       "      <th>label</th>\n",
       "      <th>code_tokens</th>\n",
       "      <th>tokens_ids</th>\n",
       "    </tr>\n",
       "  </thead>\n",
       "  <tbody>\n",
       "    <tr>\n",
       "      <th>0</th>\n",
       "      <td>CWE-129</td>\n",
       "      <td>public void goodG2BSink(LinkedList&lt;Integer&gt; da...</td>\n",
       "      <td>1</td>\n",
       "      <td>[public, Ġvoid, Ġgood, G, 2, BS, ink, (, Link,...</td>\n",
       "      <td>[15110, 13842, 205, 534, 176, 3297, 4291, 1640...</td>\n",
       "    </tr>\n",
       "    <tr>\n",
       "      <th>1</th>\n",
       "      <td>CWE-113</td>\n",
       "      <td>public void bad(HttpServletRequest request, Ht...</td>\n",
       "      <td>0</td>\n",
       "      <td>[public, Ġvoid, Ġbad, (, Http, Serv, let, Requ...</td>\n",
       "      <td>[15110, 13842, 1099, 1640, 49549, 44175, 2716,...</td>\n",
       "    </tr>\n",
       "    <tr>\n",
       "      <th>2</th>\n",
       "      <td>CWE-369</td>\n",
       "      <td>private void badSink(float data ) throws Throw...</td>\n",
       "      <td>0</td>\n",
       "      <td>[private, Ġvoid, Ġbad, S, ink, (, float, Ġdata...</td>\n",
       "      <td>[22891, 13842, 1099, 104, 4291, 1640, 46349, 4...</td>\n",
       "    </tr>\n",
       "    <tr>\n",
       "      <th>3</th>\n",
       "      <td>CWE-190</td>\n",
       "      <td>public void goodB2GSink(long data ) throws Thr...</td>\n",
       "      <td>1</td>\n",
       "      <td>[public, Ġvoid, Ġgood, B, 2, GS, ink, (, long,...</td>\n",
       "      <td>[15110, 13842, 205, 387, 176, 10729, 4291, 164...</td>\n",
       "    </tr>\n",
       "    <tr>\n",
       "      <th>4</th>\n",
       "      <td>CWE-129</td>\n",
       "      <td>public void goodB2GSink(CWE129_Improper_Valida...</td>\n",
       "      <td>1</td>\n",
       "      <td>[public, Ġvoid, Ġgood, B, 2, GS, ink, (, C, WE...</td>\n",
       "      <td>[15110, 13842, 205, 387, 176, 10729, 4291, 164...</td>\n",
       "    </tr>\n",
       "    <tr>\n",
       "      <th>...</th>\n",
       "      <td>...</td>\n",
       "      <td>...</td>\n",
       "      <td>...</td>\n",
       "      <td>...</td>\n",
       "      <td>...</td>\n",
       "    </tr>\n",
       "    <tr>\n",
       "      <th>14918</th>\n",
       "      <td>CWE-259</td>\n",
       "      <td>public void badSink(LinkedList&lt;String&gt; dataLin...</td>\n",
       "      <td>0</td>\n",
       "      <td>[public, Ġvoid, Ġbad, S, ink, (, Link, ed, Lis...</td>\n",
       "      <td>[15110, 13842, 1099, 104, 4291, 1640, 17860, 1...</td>\n",
       "    </tr>\n",
       "    <tr>\n",
       "      <th>14919</th>\n",
       "      <td>CWE-190</td>\n",
       "      <td>public void badSink(int data ) throws Throwabl...</td>\n",
       "      <td>0</td>\n",
       "      <td>[public, Ġvoid, Ġbad, S, ink, (, int, Ġdata, Ġ...</td>\n",
       "      <td>[15110, 13842, 1099, 104, 4291, 1640, 2544, 41...</td>\n",
       "    </tr>\n",
       "    <tr>\n",
       "      <th>14920</th>\n",
       "      <td>CWE-134</td>\n",
       "      <td>public void badSink(String data ) throws Throw...</td>\n",
       "      <td>0</td>\n",
       "      <td>[public, Ġvoid, Ġbad, S, ink, (, String, Ġdata...</td>\n",
       "      <td>[15110, 13842, 1099, 104, 4291, 1640, 34222, 4...</td>\n",
       "    </tr>\n",
       "    <tr>\n",
       "      <th>14921</th>\n",
       "      <td>CWE-129</td>\n",
       "      <td>public void bad(HttpServletRequest request, Ht...</td>\n",
       "      <td>0</td>\n",
       "      <td>[public, Ġvoid, Ġbad, (, Http, Serv, let, Requ...</td>\n",
       "      <td>[15110, 13842, 1099, 1640, 49549, 44175, 2716,...</td>\n",
       "    </tr>\n",
       "    <tr>\n",
       "      <th>14922</th>\n",
       "      <td>CWE-83</td>\n",
       "      <td>public void bad(HttpServletRequest request, Ht...</td>\n",
       "      <td>0</td>\n",
       "      <td>[public, Ġvoid, Ġbad, (, Http, Serv, let, Requ...</td>\n",
       "      <td>[15110, 13842, 1099, 1640, 49549, 44175, 2716,...</td>\n",
       "    </tr>\n",
       "  </tbody>\n",
       "</table>\n",
       "<p>14923 rows × 5 columns</p>\n",
       "</div>"
      ],
      "text/plain": [
       "        CWE-ID                                               code  label  \\\n",
       "0      CWE-129  public void goodG2BSink(LinkedList<Integer> da...      1   \n",
       "1      CWE-113  public void bad(HttpServletRequest request, Ht...      0   \n",
       "2      CWE-369  private void badSink(float data ) throws Throw...      0   \n",
       "3      CWE-190  public void goodB2GSink(long data ) throws Thr...      1   \n",
       "4      CWE-129  public void goodB2GSink(CWE129_Improper_Valida...      1   \n",
       "...        ...                                                ...    ...   \n",
       "14918  CWE-259  public void badSink(LinkedList<String> dataLin...      0   \n",
       "14919  CWE-190  public void badSink(int data ) throws Throwabl...      0   \n",
       "14920  CWE-134  public void badSink(String data ) throws Throw...      0   \n",
       "14921  CWE-129  public void bad(HttpServletRequest request, Ht...      0   \n",
       "14922   CWE-83  public void bad(HttpServletRequest request, Ht...      0   \n",
       "\n",
       "                                             code_tokens  \\\n",
       "0      [public, Ġvoid, Ġgood, G, 2, BS, ink, (, Link,...   \n",
       "1      [public, Ġvoid, Ġbad, (, Http, Serv, let, Requ...   \n",
       "2      [private, Ġvoid, Ġbad, S, ink, (, float, Ġdata...   \n",
       "3      [public, Ġvoid, Ġgood, B, 2, GS, ink, (, long,...   \n",
       "4      [public, Ġvoid, Ġgood, B, 2, GS, ink, (, C, WE...   \n",
       "...                                                  ...   \n",
       "14918  [public, Ġvoid, Ġbad, S, ink, (, Link, ed, Lis...   \n",
       "14919  [public, Ġvoid, Ġbad, S, ink, (, int, Ġdata, Ġ...   \n",
       "14920  [public, Ġvoid, Ġbad, S, ink, (, String, Ġdata...   \n",
       "14921  [public, Ġvoid, Ġbad, (, Http, Serv, let, Requ...   \n",
       "14922  [public, Ġvoid, Ġbad, (, Http, Serv, let, Requ...   \n",
       "\n",
       "                                              tokens_ids  \n",
       "0      [15110, 13842, 205, 534, 176, 3297, 4291, 1640...  \n",
       "1      [15110, 13842, 1099, 1640, 49549, 44175, 2716,...  \n",
       "2      [22891, 13842, 1099, 104, 4291, 1640, 46349, 4...  \n",
       "3      [15110, 13842, 205, 387, 176, 10729, 4291, 164...  \n",
       "4      [15110, 13842, 205, 387, 176, 10729, 4291, 164...  \n",
       "...                                                  ...  \n",
       "14918  [15110, 13842, 1099, 104, 4291, 1640, 17860, 1...  \n",
       "14919  [15110, 13842, 1099, 104, 4291, 1640, 2544, 41...  \n",
       "14920  [15110, 13842, 1099, 104, 4291, 1640, 34222, 4...  \n",
       "14921  [15110, 13842, 1099, 1640, 49549, 44175, 2716,...  \n",
       "14922  [15110, 13842, 1099, 1640, 49549, 44175, 2716,...  \n",
       "\n",
       "[14923 rows x 5 columns]"
      ]
     },
     "execution_count": 28,
     "metadata": {},
     "output_type": "execute_result"
    }
   ],
   "source": [
    "df"
   ]
  },
  {
   "cell_type": "code",
   "execution_count": 29,
   "metadata": {},
   "outputs": [],
   "source": [
    "final_cwe = df.copy(deep=True)"
   ]
  },
  {
   "cell_type": "code",
   "execution_count": 30,
   "metadata": {},
   "outputs": [],
   "source": [
    "final_cwe['CWE-ID'] = pd.factorize(final_cwe['CWE-ID'])[0]\n",
    "final_cwe = final_cwe.rename(columns={'CWE-ID': 'CWE_Numerical'})"
   ]
  },
  {
   "cell_type": "code",
   "execution_count": 31,
   "metadata": {},
   "outputs": [],
   "source": [
    "extracted_col = final_cwe[\"CWE_Numerical\"]\n",
    "df = df.join(extracted_col)"
   ]
  },
  {
   "cell_type": "code",
   "execution_count": 34,
   "metadata": {},
   "outputs": [],
   "source": [
    "df['embeddings'] = embeddings_list1"
   ]
  },
  {
   "cell_type": "code",
   "execution_count": 36,
   "metadata": {},
   "outputs": [],
   "source": [
    "df['embeddings'] = df.apply(lambda row: row[\"embeddings\"][0], axis=1)"
   ]
  },
  {
   "cell_type": "code",
   "execution_count": 37,
   "metadata": {},
   "outputs": [
    {
     "data": {
      "text/html": [
       "<div>\n",
       "<style scoped>\n",
       "    .dataframe tbody tr th:only-of-type {\n",
       "        vertical-align: middle;\n",
       "    }\n",
       "\n",
       "    .dataframe tbody tr th {\n",
       "        vertical-align: top;\n",
       "    }\n",
       "\n",
       "    .dataframe thead th {\n",
       "        text-align: right;\n",
       "    }\n",
       "</style>\n",
       "<table border=\"1\" class=\"dataframe\">\n",
       "  <thead>\n",
       "    <tr style=\"text-align: right;\">\n",
       "      <th></th>\n",
       "      <th>CWE-ID</th>\n",
       "      <th>code</th>\n",
       "      <th>label</th>\n",
       "      <th>code_tokens</th>\n",
       "      <th>tokens_ids</th>\n",
       "      <th>CWE_Numerical</th>\n",
       "      <th>embeddings</th>\n",
       "    </tr>\n",
       "  </thead>\n",
       "  <tbody>\n",
       "    <tr>\n",
       "      <th>0</th>\n",
       "      <td>CWE-129</td>\n",
       "      <td>public void goodG2BSink(LinkedList&lt;Integer&gt; da...</td>\n",
       "      <td>1</td>\n",
       "      <td>[public, Ġvoid, Ġgood, G, 2, BS, ink, (, Link,...</td>\n",
       "      <td>[15110, 13842, 205, 534, 176, 3297, 4291, 1640...</td>\n",
       "      <td>0</td>\n",
       "      <td>[0.5230033993721008, -0.5450685024261475, -0.6...</td>\n",
       "    </tr>\n",
       "    <tr>\n",
       "      <th>1</th>\n",
       "      <td>CWE-113</td>\n",
       "      <td>public void bad(HttpServletRequest request, Ht...</td>\n",
       "      <td>0</td>\n",
       "      <td>[public, Ġvoid, Ġbad, (, Http, Serv, let, Requ...</td>\n",
       "      <td>[15110, 13842, 1099, 1640, 49549, 44175, 2716,...</td>\n",
       "      <td>1</td>\n",
       "      <td>[0.49637043476104736, -0.550355076789856, -0.6...</td>\n",
       "    </tr>\n",
       "    <tr>\n",
       "      <th>2</th>\n",
       "      <td>CWE-369</td>\n",
       "      <td>private void badSink(float data ) throws Throw...</td>\n",
       "      <td>0</td>\n",
       "      <td>[private, Ġvoid, Ġbad, S, ink, (, float, Ġdata...</td>\n",
       "      <td>[22891, 13842, 1099, 104, 4291, 1640, 46349, 4...</td>\n",
       "      <td>2</td>\n",
       "      <td>[0.49335911870002747, -0.5077936053276062, -0....</td>\n",
       "    </tr>\n",
       "    <tr>\n",
       "      <th>3</th>\n",
       "      <td>CWE-190</td>\n",
       "      <td>public void goodB2GSink(long data ) throws Thr...</td>\n",
       "      <td>1</td>\n",
       "      <td>[public, Ġvoid, Ġgood, B, 2, GS, ink, (, long,...</td>\n",
       "      <td>[15110, 13842, 205, 387, 176, 10729, 4291, 164...</td>\n",
       "      <td>3</td>\n",
       "      <td>[0.5210403800010681, -0.45288988947868347, -0....</td>\n",
       "    </tr>\n",
       "    <tr>\n",
       "      <th>4</th>\n",
       "      <td>CWE-129</td>\n",
       "      <td>public void goodB2GSink(CWE129_Improper_Valida...</td>\n",
       "      <td>1</td>\n",
       "      <td>[public, Ġvoid, Ġgood, B, 2, GS, ink, (, C, WE...</td>\n",
       "      <td>[15110, 13842, 205, 387, 176, 10729, 4291, 164...</td>\n",
       "      <td>0</td>\n",
       "      <td>[0.5231145024299622, -0.5267179012298584, -0.6...</td>\n",
       "    </tr>\n",
       "  </tbody>\n",
       "</table>\n",
       "</div>"
      ],
      "text/plain": [
       "    CWE-ID                                               code  label  \\\n",
       "0  CWE-129  public void goodG2BSink(LinkedList<Integer> da...      1   \n",
       "1  CWE-113  public void bad(HttpServletRequest request, Ht...      0   \n",
       "2  CWE-369  private void badSink(float data ) throws Throw...      0   \n",
       "3  CWE-190  public void goodB2GSink(long data ) throws Thr...      1   \n",
       "4  CWE-129  public void goodB2GSink(CWE129_Improper_Valida...      1   \n",
       "\n",
       "                                         code_tokens  \\\n",
       "0  [public, Ġvoid, Ġgood, G, 2, BS, ink, (, Link,...   \n",
       "1  [public, Ġvoid, Ġbad, (, Http, Serv, let, Requ...   \n",
       "2  [private, Ġvoid, Ġbad, S, ink, (, float, Ġdata...   \n",
       "3  [public, Ġvoid, Ġgood, B, 2, GS, ink, (, long,...   \n",
       "4  [public, Ġvoid, Ġgood, B, 2, GS, ink, (, C, WE...   \n",
       "\n",
       "                                          tokens_ids  CWE_Numerical  \\\n",
       "0  [15110, 13842, 205, 534, 176, 3297, 4291, 1640...              0   \n",
       "1  [15110, 13842, 1099, 1640, 49549, 44175, 2716,...              1   \n",
       "2  [22891, 13842, 1099, 104, 4291, 1640, 46349, 4...              2   \n",
       "3  [15110, 13842, 205, 387, 176, 10729, 4291, 164...              3   \n",
       "4  [15110, 13842, 205, 387, 176, 10729, 4291, 164...              0   \n",
       "\n",
       "                                          embeddings  \n",
       "0  [0.5230033993721008, -0.5450685024261475, -0.6...  \n",
       "1  [0.49637043476104736, -0.550355076789856, -0.6...  \n",
       "2  [0.49335911870002747, -0.5077936053276062, -0....  \n",
       "3  [0.5210403800010681, -0.45288988947868347, -0....  \n",
       "4  [0.5231145024299622, -0.5267179012298584, -0.6...  "
      ]
     },
     "execution_count": 37,
     "metadata": {},
     "output_type": "execute_result"
    }
   ],
   "source": [
    "df.head()"
   ]
  },
  {
   "cell_type": "markdown",
   "metadata": {},
   "source": [
    "# Predicting CWE Categories"
   ]
  },
  {
   "cell_type": "code",
   "execution_count": 38,
   "metadata": {},
   "outputs": [],
   "source": [
    "X_train, X_test, y_train, y_test = train_test_split(df.embeddings.tolist(),df.CWE_Numerical, test_size=0.2, random_state=42)"
   ]
  },
  {
   "cell_type": "code",
   "execution_count": 39,
   "metadata": {},
   "outputs": [],
   "source": [
    "def check_performance(classifier, X_train, y_train, X_test, results, idx):\n",
    "    classifier.fit(X_train, y_train)\n",
    "    y_pred = classifier.predict(X_test)\n",
    "    y_prob = classifier.predict_proba(X_test)[:,1]\n",
    "    # Metrics\n",
    "    results.iloc[0, idx] = accuracy_score(y_test, y_pred)\n",
    "    results.iloc[1, idx] = precision_score(y_test, y_pred,average='macro')\n",
    "    results.iloc[2, idx] = recall_score(y_test, y_pred,average='macro')\n",
    "    \n",
    "    print(\"Accuracy: \", accuracy_score(y_test, y_pred))\n",
    "    print(\"Precision Score: \",precision_score(y_test, y_pred,average='macro'))\n",
    "    print(\"Recall Score: \",recall_score(y_test, y_pred,average='macro'))"
   ]
  },
  {
   "cell_type": "code",
   "execution_count": 40,
   "metadata": {},
   "outputs": [],
   "source": [
    "results = pd.DataFrame(columns = ['DT','RF','NB', 'KNN'], index = range(3))\n",
    "# DT --> Decision Tree\n",
    "# RF --> Random Forest\n",
    "# NB --> Naive Bayes \n",
    "# KNN --> K Nearest Neighbors"
   ]
  },
  {
   "cell_type": "code",
   "execution_count": 41,
   "metadata": {},
   "outputs": [
    {
     "name": "stdout",
     "output_type": "stream",
     "text": [
      "Accuracy:  0.7279731993299833\n",
      "Precision Score:  0.4879246980521366\n",
      "Recall Score:  0.4578447146491558\n"
     ]
    },
    {
     "name": "stderr",
     "output_type": "stream",
     "text": [
      "C:\\Users\\Z1907280\\Anaconda3\\lib\\site-packages\\sklearn\\metrics\\_classification.py:1318: UndefinedMetricWarning: Precision is ill-defined and being set to 0.0 in labels with no predicted samples. Use `zero_division` parameter to control this behavior.\n",
      "  _warn_prf(average, modifier, msg_start, len(result))\n",
      "C:\\Users\\Z1907280\\Anaconda3\\lib\\site-packages\\sklearn\\metrics\\_classification.py:1318: UndefinedMetricWarning: Precision is ill-defined and being set to 0.0 in labels with no predicted samples. Use `zero_division` parameter to control this behavior.\n",
      "  _warn_prf(average, modifier, msg_start, len(result))\n"
     ]
    }
   ],
   "source": [
    "check_performance(DecisionTreeClassifier(), X_train, y_train, X_test, results, 0)"
   ]
  },
  {
   "cell_type": "code",
   "execution_count": 42,
   "metadata": {},
   "outputs": [
    {
     "name": "stdout",
     "output_type": "stream",
     "text": [
      "Accuracy:  0.8629815745393635\n",
      "Precision Score:  0.882399938916702\n",
      "Recall Score:  0.7729528864329822\n"
     ]
    },
    {
     "name": "stderr",
     "output_type": "stream",
     "text": [
      "C:\\Users\\Z1907280\\Anaconda3\\lib\\site-packages\\sklearn\\metrics\\_classification.py:1318: UndefinedMetricWarning: Precision is ill-defined and being set to 0.0 in labels with no predicted samples. Use `zero_division` parameter to control this behavior.\n",
      "  _warn_prf(average, modifier, msg_start, len(result))\n",
      "C:\\Users\\Z1907280\\Anaconda3\\lib\\site-packages\\sklearn\\metrics\\_classification.py:1318: UndefinedMetricWarning: Precision is ill-defined and being set to 0.0 in labels with no predicted samples. Use `zero_division` parameter to control this behavior.\n",
      "  _warn_prf(average, modifier, msg_start, len(result))\n"
     ]
    }
   ],
   "source": [
    "check_performance(RandomForestClassifier(), X_train, y_train, X_test, results, 1)"
   ]
  },
  {
   "cell_type": "code",
   "execution_count": 43,
   "metadata": {},
   "outputs": [
    {
     "name": "stdout",
     "output_type": "stream",
     "text": [
      "Accuracy:  0.4130653266331658\n",
      "Precision Score:  0.5689068403878289\n",
      "Recall Score:  0.589880814499387\n"
     ]
    },
    {
     "name": "stderr",
     "output_type": "stream",
     "text": [
      "C:\\Users\\Z1907280\\Anaconda3\\lib\\site-packages\\sklearn\\metrics\\_classification.py:1318: UndefinedMetricWarning: Precision is ill-defined and being set to 0.0 in labels with no predicted samples. Use `zero_division` parameter to control this behavior.\n",
      "  _warn_prf(average, modifier, msg_start, len(result))\n",
      "C:\\Users\\Z1907280\\Anaconda3\\lib\\site-packages\\sklearn\\metrics\\_classification.py:1318: UndefinedMetricWarning: Recall is ill-defined and being set to 0.0 in labels with no true samples. Use `zero_division` parameter to control this behavior.\n",
      "  _warn_prf(average, modifier, msg_start, len(result))\n",
      "C:\\Users\\Z1907280\\Anaconda3\\lib\\site-packages\\sklearn\\metrics\\_classification.py:1318: UndefinedMetricWarning: Precision is ill-defined and being set to 0.0 in labels with no predicted samples. Use `zero_division` parameter to control this behavior.\n",
      "  _warn_prf(average, modifier, msg_start, len(result))\n",
      "C:\\Users\\Z1907280\\Anaconda3\\lib\\site-packages\\sklearn\\metrics\\_classification.py:1318: UndefinedMetricWarning: Recall is ill-defined and being set to 0.0 in labels with no true samples. Use `zero_division` parameter to control this behavior.\n",
      "  _warn_prf(average, modifier, msg_start, len(result))\n"
     ]
    }
   ],
   "source": [
    "check_performance(GaussianNB(), X_train, y_train, X_test, results, 2)"
   ]
  },
  {
   "cell_type": "code",
   "execution_count": 44,
   "metadata": {},
   "outputs": [
    {
     "name": "stdout",
     "output_type": "stream",
     "text": [
      "Accuracy:  0.7842546063651591\n",
      "Precision Score:  0.8525168992032196\n",
      "Recall Score:  0.7653559691772731\n"
     ]
    }
   ],
   "source": [
    "check_performance(KNeighborsClassifier(), X_train, y_train, X_test, results, 3)"
   ]
  },
  {
   "cell_type": "code",
   "execution_count": 45,
   "metadata": {},
   "outputs": [
    {
     "data": {
      "text/html": [
       "<div>\n",
       "<style scoped>\n",
       "    .dataframe tbody tr th:only-of-type {\n",
       "        vertical-align: middle;\n",
       "    }\n",
       "\n",
       "    .dataframe tbody tr th {\n",
       "        vertical-align: top;\n",
       "    }\n",
       "\n",
       "    .dataframe thead th {\n",
       "        text-align: right;\n",
       "    }\n",
       "</style>\n",
       "<table border=\"1\" class=\"dataframe\">\n",
       "  <thead>\n",
       "    <tr style=\"text-align: right;\">\n",
       "      <th></th>\n",
       "      <th>DT</th>\n",
       "      <th>RF</th>\n",
       "      <th>NB</th>\n",
       "      <th>KNN</th>\n",
       "    </tr>\n",
       "  </thead>\n",
       "  <tbody>\n",
       "    <tr>\n",
       "      <th>0</th>\n",
       "      <td>0.727973</td>\n",
       "      <td>0.862982</td>\n",
       "      <td>0.413065</td>\n",
       "      <td>0.784255</td>\n",
       "    </tr>\n",
       "    <tr>\n",
       "      <th>1</th>\n",
       "      <td>0.487925</td>\n",
       "      <td>0.8824</td>\n",
       "      <td>0.568907</td>\n",
       "      <td>0.852517</td>\n",
       "    </tr>\n",
       "    <tr>\n",
       "      <th>2</th>\n",
       "      <td>0.457845</td>\n",
       "      <td>0.772953</td>\n",
       "      <td>0.589881</td>\n",
       "      <td>0.765356</td>\n",
       "    </tr>\n",
       "  </tbody>\n",
       "</table>\n",
       "</div>"
      ],
      "text/plain": [
       "         DT        RF        NB       KNN\n",
       "0  0.727973  0.862982  0.413065  0.784255\n",
       "1  0.487925    0.8824  0.568907  0.852517\n",
       "2  0.457845  0.772953  0.589881  0.765356"
      ]
     },
     "execution_count": 45,
     "metadata": {},
     "output_type": "execute_result"
    }
   ],
   "source": [
    "results"
   ]
  },
  {
   "cell_type": "code",
   "execution_count": 46,
   "metadata": {},
   "outputs": [],
   "source": [
    "results.to_excel('CodeBERT_cwe_outputs.xlsx')"
   ]
  },
  {
   "cell_type": "code",
   "execution_count": 68,
   "metadata": {},
   "outputs": [
    {
     "data": {
      "image/png": "[encoded data removed]",
      "text/plain": [
       "<Figure size 720x504 with 1 Axes>"
      ]
     },
     "metadata": {},
     "output_type": "display_data"
    }
   ],
   "source": [
    "plt.figure(figsize = (10, 7))\n",
    "sns.heatmap(results[results.columns.to_list()].astype(float), cmap = 'Purples', annot = True, linewidths = 1, cbar = False, annot_kws = {'fontsize': 12},\n",
    "           yticklabels = ['Accuracy', 'Precision', 'Recall'])\n",
    "sns.set(font_scale = 1.5)\n",
    "plt.yticks(rotation = 0)\n",
    "plt.show()"
   ]
  },
  {
   "cell_type": "markdown",
   "metadata": {},
   "source": [
    "# Predicting Good and Bad Code"
   ]
  },
  {
   "cell_type": "code",
   "execution_count": 56,
   "metadata": {},
   "outputs": [],
   "source": [
    "def check_performance_l(classifier_l, X_train_l, y_train_l, X_test_l, results_badGood, idx_l):\n",
    "    classifier_l.fit(X_train_l, y_train_l)\n",
    "    y_pred_l = classifier_l.predict(X_test_l)\n",
    "    y_prob_l = classifier_l.predict_proba(X_test_l)[:,1]\n",
    "    # Metrics\n",
    "    results_badGood.iloc[0, idx_l] = accuracy_score(y_test_l, y_pred_l)\n",
    "    results_badGood.iloc[1, idx_l] = round(precision_score(y_test_l, y_pred_l), 2)\n",
    "    results_badGood.iloc[2, idx_l] = round(recall_score(y_test_l, y_pred_l), 2)\n",
    "    results_badGood.iloc[3, idx_l] = round(roc_auc_score(y_test_l, y_prob_l), 3)\n",
    "\n",
    "    print(classification_report(y_test_l, y_pred_l))\n",
    "    print(\"Accuracy: \", accuracy_score(y_test_l, y_pred_l))\n",
    "    print(\"Precision Score: \",precision_score(y_test_l, y_pred_l))\n",
    "    print(\"Recall Score: \",recall_score(y_test_l, y_pred_l))\n",
    "    print(f'ROC AUC score: {round(roc_auc_score(y_test_l, y_prob_l), 3)}')\n",
    "    print('')\n",
    "    print('-----------------------------------------------------')\n",
    "\n",
    "    # Roc curve\n",
    "    false_positive_rate, true_positive_rate, thresholds = roc_curve(y_test_l, y_prob_l)\n",
    "    roc_auc = auc(false_positive_rate, true_positive_rate)\n",
    "\n",
    "    sns.set(style = 'white')\n",
    "    plt.figure(figsize = (8, 8))\n",
    "    plt.plot(false_positive_rate,true_positive_rate, color = '#b01717', label = 'AUC = %0.3f' % roc_auc)\n",
    "    plt.legend(loc = 'lower right')\n",
    "    plt.plot([0, 1], [0, 1], linestyle = '--', color = '#174ab0')\n",
    "    plt.axis('tight')\n",
    "    plt.ylabel('True Positive Rate')\n",
    "    plt.xlabel('False Positive Rate')\n",
    "    plt.show()\n"
   ]
  },
  {
   "cell_type": "code",
   "execution_count": 53,
   "metadata": {},
   "outputs": [],
   "source": [
    "X_train_l, X_test_l, y_train_l, y_test_l = train_test_split(df.embeddings.tolist(),df.label, test_size=0.2, random_state=42)"
   ]
  },
  {
   "cell_type": "code",
   "execution_count": 60,
   "metadata": {},
   "outputs": [],
   "source": [
    "results_badGood = pd.DataFrame(columns = ['NV','DT','KNN','RF'], index = range(4))\n",
    "# DT --> Decision Tree\n",
    "# RF --> Random Forest\n",
    "# NB --> Naive Bayes \n",
    "# KNN --> K Nearest Neighbors"
   ]
  },
  {
   "cell_type": "code",
   "execution_count": 61,
   "metadata": {},
   "outputs": [
    {
     "name": "stdout",
     "output_type": "stream",
     "text": [
      "              precision    recall  f1-score   support\n",
      "\n",
      "           0       0.55      0.75      0.63       923\n",
      "           1       0.87      0.72      0.79      2062\n",
      "\n",
      "    accuracy                           0.73      2985\n",
      "   macro avg       0.71      0.74      0.71      2985\n",
      "weighted avg       0.77      0.73      0.74      2985\n",
      "\n",
      "Accuracy:  0.7323283082077052\n",
      "Precision Score:  0.8673647469458988\n",
      "Recall Score:  0.7230843840931135\n",
      "ROC AUC score: 0.79\n",
      "\n",
      "-----------------------------------------------------\n"
     ]
    },
    {
     "data": {
      "image/png": "[encoded data removed]",
      "text/plain": [
       "<Figure size 576x576 with 1 Axes>"
      ]
     },
     "metadata": {},
     "output_type": "display_data"
    }
   ],
   "source": [
    "check_performance_l(GaussianNB(), X_train_l, y_train_l, X_test_l, results_badGood, 0)"
   ]
  },
  {
   "cell_type": "code",
   "execution_count": 62,
   "metadata": {},
   "outputs": [
    {
     "name": "stdout",
     "output_type": "stream",
     "text": [
      "              precision    recall  f1-score   support\n",
      "\n",
      "           0       0.92      0.89      0.90       923\n",
      "           1       0.95      0.96      0.96      2062\n",
      "\n",
      "    accuracy                           0.94      2985\n",
      "   macro avg       0.93      0.93      0.93      2985\n",
      "weighted avg       0.94      0.94      0.94      2985\n",
      "\n",
      "Accuracy:  0.9407035175879397\n",
      "Precision Score:  0.9507412721186035\n",
      "Recall Score:  0.9641125121241513\n",
      "ROC AUC score: 0.926\n",
      "\n",
      "-----------------------------------------------------\n"
     ]
    },
    {
     "data": {
      "image/png": "[encoded data removed]",
      "text/plain": [
       "<Figure size 576x576 with 1 Axes>"
      ]
     },
     "metadata": {},
     "output_type": "display_data"
    }
   ],
   "source": [
    "check_performance_l(DecisionTreeClassifier(), X_train_l, y_train_l, X_test_l, results_badGood, 1)"
   ]
  },
  {
   "cell_type": "code",
   "execution_count": 63,
   "metadata": {},
   "outputs": [
    {
     "name": "stdout",
     "output_type": "stream",
     "text": [
      "              precision    recall  f1-score   support\n",
      "\n",
      "           0       0.91      0.88      0.89       923\n",
      "           1       0.95      0.96      0.95      2062\n",
      "\n",
      "    accuracy                           0.93      2985\n",
      "   macro avg       0.93      0.92      0.92      2985\n",
      "weighted avg       0.93      0.93      0.93      2985\n",
      "\n",
      "Accuracy:  0.9343383584589615\n",
      "Precision Score:  0.9451335877862596\n",
      "Recall Score:  0.960717749757517\n",
      "ROC AUC score: 0.977\n",
      "\n",
      "-----------------------------------------------------\n"
     ]
    },
    {
     "data": {
      "image/png": "[encoded data removed]",
      "text/plain": [
       "<Figure size 576x576 with 1 Axes>"
      ]
     },
     "metadata": {},
     "output_type": "display_data"
    }
   ],
   "source": [
    "check_performance_l(KNeighborsClassifier(), X_train_l, y_train_l, X_test_l, results_badGood, 2)"
   ]
  },
  {
   "cell_type": "code",
   "execution_count": 64,
   "metadata": {},
   "outputs": [
    {
     "name": "stdout",
     "output_type": "stream",
     "text": [
      "              precision    recall  f1-score   support\n",
      "\n",
      "           0       0.99      0.96      0.98       923\n",
      "           1       0.98      1.00      0.99      2062\n",
      "\n",
      "    accuracy                           0.99      2985\n",
      "   macro avg       0.99      0.98      0.98      2985\n",
      "weighted avg       0.99      0.99      0.99      2985\n",
      "\n",
      "Accuracy:  0.985929648241206\n",
      "Precision Score:  0.9837164750957854\n",
      "Recall Score:  0.9961202715809894\n",
      "ROC AUC score: 0.999\n",
      "\n",
      "-----------------------------------------------------\n"
     ]
    },
    {
     "data": {
      "image/png": "[encoded data removed]",
      "text/plain": [
       "<Figure size 576x576 with 1 Axes>"
      ]
     },
     "metadata": {},
     "output_type": "display_data"
    }
   ],
   "source": [
    "check_performance_l(RandomForestClassifier(), X_train_l, y_train_l, X_test_l, results_badGood, 3)"
   ]
  },
  {
   "cell_type": "code",
   "execution_count": 65,
   "metadata": {},
   "outputs": [],
   "source": [
    "results_badGood.to_excel('CodeBERT_badgood_outputs.xlsx')"
   ]
  },
  {
   "cell_type": "code",
   "execution_count": 67,
   "metadata": {},
   "outputs": [
    {
     "data": {
      "image/png": "[encoded data removed]",
      "text/plain": [
       "<Figure size 720x504 with 1 Axes>"
      ]
     },
     "metadata": {},
     "output_type": "display_data"
    }
   ],
   "source": [
    "plt.figure(figsize = (10, 7))\n",
    "sns.heatmap(results_badGood[results_badGood.columns.to_list()].astype(float), cmap = 'Purples', annot = True, linewidths = 1, cbar = False, annot_kws = {'fontsize': 12},\n",
    "           yticklabels = ['Accuracy', 'Precision', 'Recall','ROC AUC'])\n",
    "sns.set(font_scale = 1.5)\n",
    "plt.yticks(rotation = 0)\n",
    "plt.show()"
   ]
  },
  {
   "cell_type": "code",
   "execution_count": null,
   "metadata": {},
   "outputs": [],
   "source": []
  }
 ],
 "metadata": {
  "kernelspec": {
   "display_name": "Python 3 (ipykernel)",
   "language": "python",
   "name": "python3"
  },
  "language_info": {
   "codemirror_mode": {
    "name": "ipython",
    "version": 3
   },
   "file_extension": ".py",
   "mimetype": "text/x-python",
   "name": "python",
   "nbconvert_exporter": "python",
   "pygments_lexer": "ipython3",
   "version": "3.9.12"
  }
 },
 "nbformat": 4,
 "nbformat_minor": 4
}
